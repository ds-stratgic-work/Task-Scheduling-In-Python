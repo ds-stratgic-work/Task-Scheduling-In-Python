{
 "cells": [
  {
   "cell_type": "markdown",
   "id": "1bd37772-097a-4a66-8aca-945b3d80dda9",
   "metadata": {},
   "source": [
    "# Job scheduling in python"
   ]
  },
  {
   "cell_type": "markdown",
   "id": "07c90a88-1a9f-44f4-90d7-5b7b460f850e",
   "metadata": {},
   "source": [
    "# Introduction\n",
    "Some activities in our daily routines and professional responsibilities necessitate repetition within a specific timeframe. The organization of tasks holds significant importance in various modern applications, whether it involves routine API or database verifications, monitoring system health, or enabling auto-scaling capabilities. Even sophisticated auto-scaling platforms like Kubernetes and Apache Mesos rely heavily on regular assessments to maintain the smooth operation of deployed applications. To optimize these activities and ensure their timely execution, it is recommended to automate them through a task scheduler. Different programming languages offer their task-scheduling solutions, and in this guide, we will delve into the process of scheduling tasks using Python.\n"
   ]
  },
  {
   "cell_type": "markdown",
   "id": "c738bbd3-5fd2-4c60-9324-afa198092c56",
   "metadata": {
    "jp-MarkdownHeadingCollapsed": true
   },
   "source": []
  },
  {
   "cell_type": "markdown",
   "id": "52cec81c-2a27-42f7-bf76-b2093f1686f4",
   "metadata": {},
   "source": [
    "## 1. Using Loop"
   ]
  },
  {
   "cell_type": "markdown",
   "id": "0655de90-7fdc-4b7b-8064-f8360c45a53d",
   "metadata": {},
   "source": [
    "  It entails running a continuous while loop that intermittently triggers a specific function. While there are more efficient approaches available, this straightforward method gets the job done. To incorporate time intervals between function calls, one can make use of the sleep function provided by Python's built-in time module. Although it may not be as visually appealing or easy to read as other approaches. Scheduling Python jobs with basic loops involves utilizing the time module. This allows for the implementation of a loop that executes a specified function at specific time intervals. Provided below is an illustrative code snippet:"
   ]
  },
  {
   "cell_type": "code",
   "execution_count": null,
   "id": "09aa586e-08c8-4fdd-9aa5-46800b359621",
   "metadata": {},
   "outputs": [],
   "source": [
    "!pip install schedule"
   ]
  },
  {
   "cell_type": "code",
   "execution_count": null,
   "id": "b95bc2e7-3e8d-4eec-86bb-60ccfd93aca1",
   "metadata": {},
   "outputs": [],
   "source": [
    "import time\n",
    "\n",
    "def scheduled_job():\n",
    "    print(\"This is a scheduled job\")\n",
    "\n",
    "while True:\n",
    "    scheduled_job()\n",
    "    time.sleep(2)  # Run the job every 2 seconds. By default 1 sec.\n",
    "\n",
    "# Output\n",
    "## This is a scheduled job\n",
    "## This is a scheduled job\n",
    "## This is a scheduled job"
   ]
  },
  {
   "cell_type": "markdown",
   "id": "2ca7a2e2-8bb9-4975-96ac-c99ec39449fc",
   "metadata": {},
   "source": [
    "In the provided example, the scheduled_job function is programmed to run every 2 seconds through a basic loop and the time.sleep() method. We are encouraged to modify the time interval to suit our specific needs.\r\n",
    "\r\n",
    "Nonetheless, it is essential to recognize a common issue associated with this technique. It may not be suitable for tasks that are extensive or intricate, as it has the potential to block the main thread and render your application unresponsive."
   ]
  },
  {
   "cell_type": "markdown",
   "id": "fe26c07f-fa6e-4d96-b835-a352d8963a1d",
   "metadata": {},
   "source": [
    "# 2.Threaded Loop\n",
    "\n",
    "To tackle the problem of blocking, one can utilize basic threaded loops by leveraging Python's threading module. This approach is similar to regular loops, but instead of relying on a single loop, a new thread is created for each task that needs to be executed.\r\n",
    "\r\n",
    "Here is a brief overview of the steps involved:\r\n",
    "\r\n",
    "1. Define the function that needs to be executed periodically.\r\n",
    "2. Utilize the threading module to create a thread for the specified function.\r\n",
    "3. Start the thread and set a time delay to determine the frequency at which the function should be executed. This delay can be achieved using the sleep function from the time module."
   ]
  },
  {
   "cell_type": "code",
   "execution_count": 2,
   "id": "53bd4ba1-bd16-4dc8-804a-0953bf316a0d",
   "metadata": {},
   "outputs": [
    {
     "name": "stdout",
     "output_type": "stream",
     "text": [
      "Collecting thread\n",
      "  Downloading thread-2.0.1-py3-none-any.whl.metadata (6.0 kB)\n",
      "Requirement already satisfied: typing-extensions<5.0.0,>=4.9.0 in c:\\users\\sarmita\\anaconda3\\lib\\site-packages (from thread) (4.9.0)\n",
      "Downloading thread-2.0.1-py3-none-any.whl (17 kB)\n",
      "Installing collected packages: thread\n",
      "Successfully installed thread-2.0.1\n"
     ]
    }
   ],
   "source": [
    "!pip install thread"
   ]
  },
  {
   "cell_type": "code",
   "execution_count": null,
   "id": "b2379cf3-f28e-4dc6-a8f7-954f936e10e2",
   "metadata": {},
   "outputs": [],
   "source": [
    "import threading\n",
    "import time\n",
    "\n",
    "def job():\n",
    "   print(\"This is a scheduled job\")\n",
    "\n",
    "def run_threaded(job_func):\n",
    "   job_thread = threading.Thread(target=job_func)\n",
    "   job_thread.start()\n",
    "\n",
    "while True:\n",
    "   run_threaded(job)\n",
    "   time.sleep(10)"
   ]
  },
  {
   "cell_type": "markdown",
   "id": "fa967b4c-4d7d-4081-b2d2-3a5b5af9d65e",
   "metadata": {},
   "source": [
    "In this scenario, we begin by defining the job function that needs to be executed every 10 seconds. Following this, we establish a run_threaded function to create a new thread dedicated to the job function and start it. To guarantee the periodic execution of the job function, we implement an infinite loop that continuously invokes the run_threaded function. To introduce a 10-second interval between each invocation, we make use of the sleep function. This configuration ensures that the job function runs every minute.\r",
    ".\r\n",
    "\r\n",
    "It is important to acknowledge a common challenge associated with this method: once a thread has started and is running, the main program or thread cannot alter its behavior. If there is a requirement for the thread to respond to specific conditions or events, additional resources or logic may be necessfory in the program to monitor these situations and take appropriate actions accordingly."
   ]
  },
  {
   "cell_type": "markdown",
   "id": "57e31877-4323-4fab-bd88-31abae542d75",
   "metadata": {},
   "source": [
    "# Using a scheduled library\n",
    "While loops may not be visually appealing, this problem can be solved by making use of a scheduling library."
   ]
  },
  {
   "cell_type": "code",
   "execution_count": null,
   "id": "b553b421-6f43-49c1-9e84-535bc2eca0e3",
   "metadata": {},
   "outputs": [],
   "source": [
    "import schedule\n",
    "import time\n",
    "\n",
    "def job():\n",
    "   print(\"Hello, I am working...\")\n",
    "\n",
    "schedule.every(10).seconds.do(job)\n",
    "\n",
    "while True:\n",
    "   schedule.run_pending()\n",
    "   time.sleep(1)"
   ]
  },
  {
   "cell_type": "markdown",
   "id": "51126b39-6b8b-4daa-a99d-fadebc3ec600",
   "metadata": {},
   "source": [
    "A function named \"job\" is defined to execute it every 10 seconds. The scheduling is managed by utilizing \n",
    "- schedule.every(10).seconds.do(job)\n",
    "\n",
    "  to establish the function to run at 10-second intervals. This approach enhances the code's structure and readability compared to using a while loop. Moreover, making adjustments to schedule multiple jobs or modify an existing job is simpler.\r\n",
    "\r\n",
    "However, a common issue with the Python `schedule` library is that it may stop running if the process or program utilizing the library terminates or exits. This can result in missed job executions or incomplete schedules. To overcome this problem, it is recommended to run the `schedule` library in a separate thread or process that persists even after the main program concludes."
   ]
  },
  {
   "cell_type": "markdown",
   "id": "6fb82068-b49c-419e-a0b9-4dc700615692",
   "metadata": {},
   "source": [
    "# Python Crontab."
   ]
  },
  {
   "cell_type": "markdown",
   "id": "1d75be42-19d1-4945-87e4-21e2d4c4034f",
   "metadata": {},
   "source": [
    "## Prior Requirements (UNIX / Linux / Windows)\n",
    "- It is essential to have the most recent Python version installed.\n",
    "- Configure a personal computer, a virtual machine, a virtual private server, or\n",
    "-  WSL (in case of Windows usage).\n",
    "-  Additionally, ensure that we are logged in as a user with root access, and\n",
    "-  possess a fundamental understanding of Python and command-line tools\n",
    "\n",
    "The Python crontab package functions as a tool for automating tasks at specific intervals, utilizing the syntax of the UNIX cron utility. Inspired by the time-based job scheduler Cron found in Unix-like operating systems, this Python package offers a user-friendly interface for creating schedules similar to cron, allowing for the execution of Python code.\r\n",
    "\r\n",
    "With Python crontab, it becomes easier to define precise intervals, specific times of day, particular days of the week, or even months of the year for running a specific script or program. This is accomplished by defining a set of rules using the crontab syntax, which accurately specifies when a task should be performed."
   ]
  },
  {
   "cell_type": "code",
   "execution_count": null,
   "id": "a901a079-45cd-41f2-998b-48c0a62eb25d",
   "metadata": {},
   "outputs": [],
   "source": [
    "from crontab import CronTab\n",
    "\n",
    "cron = CronTab(user=True)\n",
    "\n",
    "job = cron.new(command=\"echo 'hello world'\")\n",
    "job.minute.every(1)\n",
    "\n",
    "cron.write()\n",
    "\n"
   ]
  },
  {
   "cell_type": "markdown",
   "id": "1b95f51a-4aa1-491a-a3eb-0ea5762d0e1f",
   "metadata": {},
   "source": [
    "To begin with, the CronTab class is imported and a cron object is initialized. By setting the user argument to True, it guarantees that the crontab file of the current user is both read and manipulated. It is also possible to manipulate the crontab file of other users, but it is essential to have the appropriate permissions to do so.\n",
    "\n",
    "\n",
    "To create a new Cron Job, one can utilize the 'new()' method on the cron object, where the command parameter is used to define the desired shell command for execution. Once the job is created, it is essential to set its schedule. In the given instance, the job is scheduled to run every minute. Lastly, save the job by employing the write() method, which will write it to the appropriate crontab file.\n",
    "\n",
    "After determining the time unit for scheduling, such as minute or hour, it is essential to establish the frequency at which the task will be repeated. This can be achieved through a time interval, a set frequency, or specific values. There are three distinct approaches available to assist you in this process."
   ]
  },
  {
   "cell_type": "markdown",
   "id": "e8a5b9b5-0c2c-4062-96ba-8c84bcd08b86",
   "metadata": {},
   "source": [
    "## Set time with restriction"
   ]
  },
  {
   "cell_type": "code",
   "execution_count": null,
   "id": "0ec9809a-b753-4096-aeac-e95be507fbff",
   "metadata": {},
   "outputs": [],
   "source": [
    "# code in a nutshell:\n",
    "import schedule\n",
    "import time\n",
    "\n",
    "def  job():\n",
    "    print(\"Hello! I am working...\")\n",
    "\n",
    "schedule.every(10).minutes.do(job)                           # Scheduled time in minutes\n",
    "schedule.every().hour.do(job)                                # Scheduled time in hours\n",
    "schedule.every().day.at(\"10:30\").do(job)                     # Scheduled time for everyday at 10:30AM\n",
    "schedule.every().monday.do(job)                              # Scheduled time for monday \n",
    "schedule.every().wednesday.at(\"13:30\").do(job)               # Scheduled time for Wednesday at 13:30 pm\n",
    "schedule.every().day.at(\"12:30\", \"India/Bangaluru\").do(job)  # Scheduled time for place is in India/Bengaluru\n",
    "\n",
    "while True:\n",
    "    schedule.run_pending()\n",
    "    time.sleep(1)\n"
   ]
  },
  {
   "cell_type": "markdown",
   "id": "a505b073-0730-410d-ac03-3fd66e77d135",
   "metadata": {},
   "source": [
    "The on() function is used to specify the values for the task that needs to be repeated. It accepts different values depending on the units. For example, if the unit is minute, integer values ranging from 0 to 59 can be passed as arguments. On the other hand, if the unit is day of the week (dow), integer values between 0 and 6 or string values SUN to SAT can be used.\r\n"
   ]
  },
  {
   "cell_type": "code",
   "execution_count": null,
   "id": "b4fff2bc-a8dd-41e5-83d0-c6a726520ad8",
   "metadata": {},
   "outputs": [],
   "source": [
    "job.minute.on(5)                # 5th minute of every hour → 5 * * * *\n",
    "\n",
    "job.hour.on(5)                  # 05:00 of every day → * 5 * * *\n",
    "\n",
    "job.day.on(5)                  # 5th day of every month → * * 5 * *\n",
    "\n",
    "job.month.on(5)                # May of every year → * * * 5 *\n",
    "\n",
    "job.month.on(\"MAY\")            # May of every year → * * * 5 *\n",
    "\n",
    "job.dow.on(5)                  # Every Friday → * * * * 5\n",
    "\n",
    "job.dow.on(\"FRI\")              # Every Friday → * * * * 5\n"
   ]
  },
  {
   "cell_type": "markdown",
   "id": "9b6ebd0f-fd42-4566-ba03-3cab980ee433",
   "metadata": {},
   "source": [
    "You have the option to indicate several values in the on() function to create a list. This is equivalent to the comma symbol in a Cron expression. \n",
    "\n",
    "- every(): defines the frequency of repetition. Corresponds to the forward-slash (/) in a Cron expression.\n",
    "- The during() method in Cron expressions indicates a time interval using the dash (-) character. This method requires two values to define the interval, and similar to the on() method, the acceptable range of values depends on the unit being used."
   ]
  },
  {
   "cell_type": "code",
   "execution_count": null,
   "id": "cd5b405a-9a24-4028-a324-7eabc77775a4",
   "metadata": {},
   "outputs": [],
   "source": [
    "job.day.on(5, 8, 10, 17)            # corresponds to * * 5,8,10,17 * *\n",
    "\n",
    "job.minute.every(5)                # Every 5 minutes → */5 * * * *\n",
    "\n",
    "job.minute.during(5,50)           # During minute 5 to 50 of every hour\n",
    "\n",
    "job.minute.during(5,20).every(5)  # We can als combine during() & every(). i.e. Every 5 minutes from minute 5 to 20 → 5-20/5 * * * *"
   ]
  },
  {
   "cell_type": "markdown",
   "id": "9126faa8-0225-479a-b7f4-e22434d82e19",
   "metadata": {},
   "source": [
    "##### Using Cron expression there is another method setall(). This allows us to use either Cron expression or Python datetime objects."
   ]
  },
  {
   "cell_type": "code",
   "execution_count": null,
   "id": "cb7c3bb0-6248-40f0-8f2d-6a9b9c64428f",
   "metadata": {},
   "outputs": [],
   "source": [
    "job.setall(None, \"*/2\", None, \"5\", None)                    # None means *\n",
    "job.setall(\"* */2 * 5 *\")\n",
    "\n",
    "job.setall(datetime.time(10, 2))                            # 2 10 * * *\n",
    "job.setall(datetime.date(2000, 4, 2))                       # * * 2 4 *\n",
    "job.setall(datetime.datetime(2000, 4, 2, 10, 2))            # 2 10 2 4 *"
   ]
  },
  {
   "cell_type": "markdown",
   "id": "8b6729da-b538-4355-a2c4-add31bc47601",
   "metadata": {},
   "source": [
    "# RQ scheduler\n",
    "The creation of a queue is vital when dealing with tasks that cannot be immediately performed. It is crucial to organize these tasks using a queue system, such as :\n",
    "\n",
    "\n",
    "- Last In, First Out (LIFO) or \n",
    "\n",
    "\n",
    "- First In, First Out (FIFO). \n",
    "\n",
    "\n",
    "Python-rq is a tool that utilizes Redis as a broker to facilitate job queuing. A hash map is used to store information about a new job, including details like creation time, enqueue time, origin, data, and description.\r\n",
    "\r\n",
    "To execute these queued jobs, a program called a worker is utilized. Workers have an entry in the Redis cache and are responsible for dequeuing jobs and updating their status in Redis. While jobs can be queued as neededthe , rq-scheduler is essential for scheduling them."
   ]
  },
  {
   "cell_type": "code",
   "execution_count": null,
   "id": "fdb83a70-0b9e-454b-af4e-374aff6dff5c",
   "metadata": {},
   "outputs": [],
   "source": [
    "from datetime import datetime, timedelta\n",
    "from redis import Redis\n",
    "from rq_scheduler import Scheduler\n",
    "\n",
    "# Create a connection to Redis\n",
    "redis_conn = Redis(host='localhost', port=6379)\n",
    "\n",
    "# Create a scheduler object\n",
    "scheduler = Scheduler(connection=redis_conn)\n",
    "\n",
    "# Define the job function\n",
    "def my_job():\n",
    "    print(\"Hello, world!\")\n",
    "\n",
    "# Schedule the job to run every minute\n",
    "scheduler.schedule(\n",
    "    scheduled_time=datetime.utcnow(),  # Start immediately\n",
    "    func=my_job,\n",
    "    interval=timedelta(minutes=1)\n",
    ")"
   ]
  },
  {
   "cell_type": "markdown",
   "id": "f77802e2-4c55-423e-8ff7-09f345d291bf",
   "metadata": {},
   "source": [
    "To establish a connection with Redis and create a Scheduler object, we begin the process. Subsequently, we define a simple job function that will display the message \"Hello, world!\" and set it to run every minute using the scheduler.schedule() method. The datetime.utcnow() function guarantees that the job will commence immediately.\n",
    "\n",
    "\n",
    "#### Disadvantages: \n",
    "A common issue with RQ scheduling is that it requires a separate worker process to execute the jobs. This may pose challenges for smaller applications or systems with limited resources. Furthermore, managing resources and ensuring optimal performance during high workloads may demand extra effort due to the execution of jobs by separate worker processes."
   ]
  },
  {
   "cell_type": "markdown",
   "id": "bf17af46-e6a9-4ab9-9b26-9ea5eed50019",
   "metadata": {},
   "source": [
    "### To utilize Python with Redwood RunMyJobs\n",
    "#### follow these steps:\n",
    "\n",
    "\n",
    "1. Install the RunMyJobs Python Client Library:\n",
    "    Start by installing the RunMyJobs Python client library:\n",
    "\n",
    "\n",
    " `!pip install runmyjobs`\n",
    " \n",
    "\n",
    "\n",
    "3. Create a Python Script for our Job:\n",
    "   Develop a Python script that outlines the tasks that we want to execute. This script should include all the necessary code and dependencies.\n",
    "\n",
    "\n",
    "5. Upload Script and Dependencies to RunMyJobs:\n",
    "   Use the runmyjobs command-line tool, which comes with the RunMyJobs Python client library, to upload Python script and any required dependencies to the RunMyJobs platform.\n",
    "   \n",
    "\n",
    "7. Define a Job in RunMyJobs:\n",
    "   Define a job in RunMyJobs that references Python script. This definition should include any configuration settings that are necessary for our script to run in the desired environment.\n",
    "   \n",
    "\n",
    "9. Submit the Job to RunMyJobs:\n",
    "   Submit the job to RunMyJobs using the runmyjobs command-line tool.\n",
    "   \n",
    "\n",
    "11. Monitor Job Status in RunMyJobs:\n",
    "   Keep track of the progress of the job in RunMyJobs. We can do this either through the runmyjobs command-line tool or the user-friendly RunMyJobs web interface.\n",
    "\n",
    "\n",
    "13. Optional: Install Schedule Library in Python:\n",
    "If needed, we can install the schedule library in Python by using the: `!pip install schedule` \n",
    "\n",
    "\n",
    "\n",
    "Once your job is completed, retrieve the output from RunMyJobs and use it according to the needs. These steps provide a general framework and may require adjustments based on your specific use case and environment."
   ]
  },
  {
   "cell_type": "markdown",
   "id": "a1ba222e-274b-4635-8732-e131dc8b7c67",
   "metadata": {},
   "source": [
    "# Final Thought\n",
    "\n",
    "Python offers a variety of options for task scheduling, such as simple loops, threaded loops, the Schedule library, Python crontab, and RQ Scheduler. While simple loops may not be suitable for lengthy or complex tasks, threaded loops provide a solution to blocking issues at the cost of additional resources. The Schedule library, although visually appealing and easily customizable, may stop running when the program exits. Python crontab stands out as an excellent choice for scheduling tasks at specific intervals.\r\n",
    "\r\n",
    "Choosing the most appropriate Python scheduling method depends on factors such as task complexity, time intervals, and the level of monitoring required. To automate and efficiently monitor Python workflows and job dependencies, it is worth considering tools like Redwood RunMyJobs."
   ]
  },
  {
   "cell_type": "code",
   "execution_count": null,
   "id": "9d95ad7f-71c9-43e6-9094-3c938c7b2d0c",
   "metadata": {},
   "outputs": [],
   "source": []
  }
 ],
 "metadata": {
  "kernelspec": {
   "display_name": "Python 3 (ipykernel)",
   "language": "python",
   "name": "python3"
  },
  "language_info": {
   "codemirror_mode": {
    "name": "ipython",
    "version": 3
   },
   "file_extension": ".py",
   "mimetype": "text/x-python",
   "name": "python",
   "nbconvert_exporter": "python",
   "pygments_lexer": "ipython3",
   "version": "3.11.7"
  },
  "widgets": {
   "application/vnd.jupyter.widget-state+json": {
    "state": {},
    "version_major": 2,
    "version_minor": 0
   }
  }
 },
 "nbformat": 4,
 "nbformat_minor": 5
}
